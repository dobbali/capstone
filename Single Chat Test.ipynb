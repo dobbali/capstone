{
 "cells": [
  {
   "cell_type": "code",
   "execution_count": 1,
   "metadata": {
    "collapsed": false
   },
   "outputs": [
    {
     "name": "stdout",
     "output_type": "stream",
     "text": [
      "libraries imported\n"
     ]
    }
   ],
   "source": [
    "# coding: utf-8\n",
    "import params as p\n",
    "import pandas as pd\n",
    "import datetime\n",
    "from openpyxl import Workbook # Workbook is a class object; a container for all other parts of the document\n",
    "#import os # Operating System dependent module\n",
    "import pandas as pd\n",
    "#import numpy as np\n",
    "import re\n",
    "#import pprint\n",
    "from string import punctuation\n",
    "#from sklearn.feature_extraction.text import CountVectorizer\n",
    "#from nltk.tokenize import RegexpTokenizer\n",
    "from stop_words import get_stop_words\n",
    "#from nltk.stem.porter import PorterStemmer\n",
    "#from gensim import corpora, models\n",
    "#mport gensim\n",
    "import pandas as pd\n",
    "import re\n",
    "#from sklearn.preprocessing import MinMaxScaler\n",
    "from nltk.corpus import stopwords\n",
    "#import glob # glob module finds all the pathnames matching a specified pattern\n",
    "#from collections import Counter\n",
    "import rake\n",
    "#import operator\n",
    "import data_aggregate as da\n",
    "import Rake_TF_IDF_Cleansing as bc\n",
    "import data_collection as dc\n",
    "#import pandas as pd\n",
    "#import numpy as np\n",
    "import teradata\n",
    "import getpass\n",
    "from teradata import DatabaseError\n",
    "print('libraries imported')"
   ]
  },
  {
   "cell_type": "code",
   "execution_count": 3,
   "metadata": {
    "collapsed": false
   },
   "outputs": [
    {
     "name": "stdout",
     "output_type": "stream",
     "text": [
      "import done\n",
      "0:00:02.997181\n"
     ]
    }
   ],
   "source": [
    "# In[3]:\n",
    "t1 = datetime.datetime.now()\n",
    "#Point path to an excel file with chat transcripts\n",
    "combinedData_all = pd.read_excel(\"/Users/mdobbali/Google Drive/Overstock/Projects/cs_text_classification/Capstone_Demo/Data_Files/input_file.xlsx\")\n",
    "print('import done')\n",
    "t2 = datetime.datetime.now()\n",
    "print(t2 - t1)"
   ]
  },
  {
   "cell_type": "code",
   "execution_count": 5,
   "metadata": {
    "collapsed": true
   },
   "outputs": [],
   "source": [
    "\n",
    "#Comment one of the following\n",
    "#output = 'combined' # if you want keywords related to all issues ;\n",
    "#output = 'ind' # if you want individual issue keywords\n",
    "\n",
    "issue_name = 'issue'\n",
    "custoragent = 'customer'\n",
    "#tf_idf_or_rake = 'rake' #No or Yes\n",
    "\n",
    "#min_word_phrase_len = 4\n",
    "#min_word_len = 4\n",
    "#freq = 6\n",
    "# In[6]:\n",
    "\n",
    "combinedData_sample = combinedData_all.sample(frac= p.frac)\n",
    "combinedData_sample = combinedData_sample.rename(index = str, columns={'incdnt_note_desc':'Chat','issue_name':'File_Name'})\n",
    "if p.output == 'combined':\n",
    "    combinedData_sample['File_Name'] = 'issue'\n",
    "\n",
    "combinedData_sample.drop(combinedData_sample.columns[[1]], axis=1, inplace=True)\n",
    "\n"
   ]
  },
  {
   "cell_type": "code",
   "execution_count": 7,
   "metadata": {
    "collapsed": false
   },
   "outputs": [],
   "source": [
    "combinedData_sample = combinedData_sample.head(1)"
   ]
  },
  {
   "cell_type": "code",
   "execution_count": 9,
   "metadata": {
    "collapsed": false
   },
   "outputs": [
    {
     "name": "stdout",
     "output_type": "stream",
     "text": [
      "names and time stamps have not been removed\n",
      "0:00:00.039187\n"
     ]
    },
    {
     "name": "stderr",
     "output_type": "stream",
     "text": [
      "/Users/mdobbali/Google Drive/Overstock/Projects/cs_text_classification/Capstone_Demo/Rake_TF_IDF_Cleansing.py:37: SettingWithCopyWarning: \n",
      "A value is trying to be set on a copy of a slice from a DataFrame.\n",
      "Try using .loc[row_indexer,col_indexer] = value instead\n",
      "\n",
      "See the caveats in the documentation: http://pandas.pydata.org/pandas-docs/stable/indexing.html#indexing-view-versus-copy\n",
      "  chat_transcript_df[column_name] = [chat.lower() for chat in chat_transcript_df[column_name]]\n"
     ]
    }
   ],
   "source": [
    "message = 'basic cleaning on data is done'\n",
    "t1 = datetime.datetime.now()\n",
    "clean_df_rake = bc.basic_cleaning(combinedData_sample,'Chat',p.tf_idf_or_rake )\n",
    "t2 = datetime.datetime.now()\n",
    "print(t2 - t1)"
   ]
  },
  {
   "cell_type": "code",
   "execution_count": 13,
   "metadata": {
    "collapsed": false
   },
   "outputs": [
    {
     "data": {
      "text/plain": [
       "'full transcript (includes private messages)<br /> --------------------------------------------<br /> [10:29:40 pm] hi, my name is dustin r.. how may i help you?<br /> [10:29:56 pm] visitor: hello dustin.<br /> [10:30:13 pm] visitor: could you tell me the status of my purchase?<br /> [10:30:15 pm] dustin r.: hi there!<br /> [10:30:23 pm] dustin r.: could you confirm your name and billing address for security purposes so i can get the green light to investigate?<br /> [10:30:53 pm] visitor: carmen leticia rosas<br /> [10:31:08 pm] visitor: 121 orange ave spc 32 chula vista ca. 91911<br /> [10:31:27 pm] dustin r.: thank you, is this for the &nbsp;<br /> traveler&#39;s club euro value ii collection deluxe 4-piece travel set<br /> ?<br /> [10:31:49 pm] visitor: yes it is<br /> [10:31:57 pm] dustin r.: alright, it looks like we&#39;re still investigating the tracking on the item. &nbsp;this can take 1-2 business days. &nbsp;today is the first business day.<br /> [10:32:52 pm] visitor: the purchase is since 12/03/2015, and i need it for travel,<br /> [10:33:37 pm] visitor: 1-2 busines days is too long time for the info i need<br /> [10:33:54 pm] dustin r.: i understand, and we are investigating this.<br /> [10:33:57 pm] visitor: money has collect<br /> [10:34:51 pm] visitor: ok will wait at tomorrow half day, i need and i believe in the company<br /> [10:36:21 pm] dustin r.: i would wait until tomorrow and then contact us on monday if you have not heard back yet.<br /> [10:40:59 pm] dustin r.: are you still with me?<br /> [10:43:41 pm] dustin r.: if you need further assistance, please contact us back.<br /> [10:43:42 pm] dustin r.: <div> <div><span>thank you for contacting overstock. before you go, we invite you to check out the exclusive benefits of becoming a club o member. club o allows you to earn rewards and save more with every overstock.com purchase. it&#39;s our way of saying &#39;thank you&#39; for shopping with us. click </span><a target = \\'new\\' title=\\'click to follow link http://www.overstock.com/club-o-rewards-program?tid=cochat\\'  href=\"http://www.overstock.com/club-o-rewards-program?tid=cochat\"><span>here</span></a>&nbsp;to learn more!</div> </div> <br /> [10:43:42 pm] &#39;visitor&#39; disconnected (&#39;concluded by agent&#39;). '"
      ]
     },
     "execution_count": 13,
     "metadata": {},
     "output_type": "execute_result"
    }
   ],
   "source": [
    "combinedData_sample['Chat'][0]"
   ]
  },
  {
   "cell_type": "code",
   "execution_count": 12,
   "metadata": {
    "collapsed": false
   },
   "outputs": [
    {
     "data": {
      "text/plain": [
       "'full transcript (includes private messages) -------------------------------------------- [10:29:40 pm] hi, my name is dustin r.. how may i help you? [10:29:56 pm] visitor: hello dustin. [10:30:13 pm] visitor: could you tell me the status of my purchase? [10:30:15 pm] dustin r.: hi there! [10:30:23 pm] dustin r.: could you confirm your name and billing address for security purposes so i can get the green light to investigate? [10:30:53 pm] visitor: carmen leticia rosas [10:31:08 pm] visitor: 121 orange ave spc 32 chula vista ca. 91911 [10:31:27 pm] dustin r.: thank you, is this for the  travelers club euro value ii collection deluxe 4-piece travel set ? [10:31:49 pm] visitor: yes it is [10:31:57 pm] dustin r.: alright, it looks like were still investigating the tracking on the item. this can take 1-2 business days. today is the first business day. [10:32:52 pm] visitor: the purchase is since 12/03/2015, and i need it for travel, [10:33:37 pm] visitor: 1-2 busines days is too long time for the info i need [10:33:54 pm] dustin r.: i understand, and we are investigating this. [10:33:57 pm] visitor: money has collect [10:34:51 pm] visitor: ok will wait at tomorrow half day, i need and i believe in the company [10:36:21 pm] dustin r.: i would wait until tomorrow and then contact us on monday if you have not heard back yet. [10:40:59 pm] dustin r.: are you still with me? [10:43:41 pm] dustin r.: if you need further assistance, please contact us back. [10:43:42 pm] dustin r.:  <>'"
      ]
     },
     "execution_count": 12,
     "metadata": {},
     "output_type": "execute_result"
    }
   ],
   "source": [
    "clean_df_rake['Chat'][0]"
   ]
  },
  {
   "cell_type": "code",
   "execution_count": 15,
   "metadata": {
    "collapsed": false
   },
   "outputs": [],
   "source": [
    "message = 'extracting customer chat in a list '\n",
    "t1 = datetime.datetime.now()\n",
    "clean_df_rake['cust_chat'] = da.get_chat_df(clean_df_rake,'Chat',p.custoragent)\n",
    "t2 = datetime.datetime.now()"
   ]
  },
  {
   "cell_type": "code",
   "execution_count": 17,
   "metadata": {
    "collapsed": false
   },
   "outputs": [
    {
     "data": {
      "text/plain": [
       "[' hello dustin. ',\n",
       " ' could you tell me the status of my purchase? ',\n",
       " ' carmen leticia rosas ',\n",
       " ' 121 orange ave spc 32 chula vista ca. 91911 ',\n",
       " ' yes it is ',\n",
       " ' the purchase is since 12/03/2015, and i need it for travel, ',\n",
       " ' 1-2 busines days is too long time for the info i need ',\n",
       " ' money has collect ',\n",
       " ' ok will wait at tomorrow half day, i need and i believe in the company ']"
      ]
     },
     "execution_count": 17,
     "metadata": {},
     "output_type": "execute_result"
    }
   ],
   "source": [
    "clean_df_rake['cust_chat'][0]"
   ]
  },
  {
   "cell_type": "code",
   "execution_count": 19,
   "metadata": {
    "collapsed": false
   },
   "outputs": [],
   "source": [
    "message = 'getting rid of address'\n",
    "t1 = datetime.datetime.now()\n",
    "clean_df_rake['cust_chat'] = [bc.strip_address(lines,'/Users/mdobbali/Google Drive/Overstock/Projects/cs_text_classification/Final_Code/Data_Files/state_names.txt') for lines in clean_df_rake['cust_chat']]\n",
    "t2  = datetime.datetime.now()"
   ]
  },
  {
   "cell_type": "code",
   "execution_count": 20,
   "metadata": {
    "collapsed": false
   },
   "outputs": [
    {
     "data": {
      "text/plain": [
       "[' hello dustin. ',\n",
       " ' could you tell me the status of my purchase? ',\n",
       " ' carmen leticia rosas ',\n",
       " ' 121 orange ave spc 32 chula vista ca. 91911 ',\n",
       " ' yes it is ',\n",
       " ' the purchase is since 12/03/2015, and i need it for travel, ',\n",
       " ' 1-2 busines days is too long time for the info i need ',\n",
       " ' money has collect ',\n",
       " ' ok will wait at tomorrow half day, i need and i believe in the company ']"
      ]
     },
     "execution_count": 20,
     "metadata": {},
     "output_type": "execute_result"
    }
   ],
   "source": [
    "clean_df_rake['cust_chat'][0]"
   ]
  },
  {
   "cell_type": "code",
   "execution_count": 22,
   "metadata": {
    "collapsed": false
   },
   "outputs": [],
   "source": [
    "message = 'getting rid of one word sentences'\n",
    "t1 = datetime.datetime.now()\n",
    "clean_df_rake['cust_chat'] = [bc.get_one_word(lines) for lines in clean_df_rake['cust_chat']]"
   ]
  },
  {
   "cell_type": "code",
   "execution_count": 23,
   "metadata": {
    "collapsed": false
   },
   "outputs": [
    {
     "data": {
      "text/plain": [
       "['hello dustin.',\n",
       " 'could you tell me the status of my purchase?',\n",
       " 'carmen leticia rosas',\n",
       " '121 orange ave spc 32 chula vista ca. 91911',\n",
       " 'yes it is',\n",
       " 'the purchase is since 12/03/2015, and i need it for travel,',\n",
       " '1-2 busines days is too long time for the info i need',\n",
       " 'money has collect',\n",
       " 'ok will wait at tomorrow half day, i need and i believe in the company']"
      ]
     },
     "execution_count": 23,
     "metadata": {},
     "output_type": "execute_result"
    }
   ],
   "source": [
    "clean_df_rake['cust_chat'][0]"
   ]
  },
  {
   "cell_type": "code",
   "execution_count": 24,
   "metadata": {
    "collapsed": true
   },
   "outputs": [],
   "source": [
    "message = 'stiriping numbers'\n",
    "t1 = datetime.datetime.now()\n",
    "clean_df_rake['cust_chat'] = [bc.strip_numbers_list(lines) for lines in clean_df_rake['cust_chat']]"
   ]
  },
  {
   "cell_type": "code",
   "execution_count": 25,
   "metadata": {
    "collapsed": false
   },
   "outputs": [
    {
     "data": {
      "text/plain": [
       "['hello dustin.',\n",
       " 'could you tell me the status of my purchase?',\n",
       " 'carmen leticia rosas',\n",
       " ' orange ave spc  chula vista ca. ',\n",
       " 'yes it is',\n",
       " 'the purchase is since //, and i need it for travel,',\n",
       " '- busines days is too long time for the info i need',\n",
       " 'money has collect',\n",
       " 'ok will wait at tomorrow half day, i need and i believe in the company']"
      ]
     },
     "execution_count": 25,
     "metadata": {},
     "output_type": "execute_result"
    }
   ],
   "source": [
    "clean_df_rake['cust_chat'][0]"
   ]
  },
  {
   "cell_type": "code",
   "execution_count": 27,
   "metadata": {
    "collapsed": false
   },
   "outputs": [],
   "source": [
    "message ='customer chat in a paragraphs'\n",
    "t1 = datetime.datetime.now()\n",
    "clean_df_rake['cust_chat'] = [da.combine_list_of_items(chat,'') for chat in clean_df_rake['cust_chat']]"
   ]
  },
  {
   "cell_type": "code",
   "execution_count": 28,
   "metadata": {
    "collapsed": false
   },
   "outputs": [
    {
     "data": {
      "text/plain": [
       "'hello dustin.could you tell me the status of my purchase?carmen leticia rosas orange ave spc  chula vista ca. yes it isthe purchase is since //, and i need it for travel,- busines days is too long time for the info i needmoney has collectok will wait at tomorrow half day, i need and i believe in the company'"
      ]
     },
     "execution_count": 28,
     "metadata": {},
     "output_type": "execute_result"
    }
   ],
   "source": [
    "clean_df_rake['cust_chat'][0]"
   ]
  },
  {
   "cell_type": "code",
   "execution_count": null,
   "metadata": {
    "collapsed": true
   },
   "outputs": [],
   "source": [
    "\n",
    "t1 = datetime.datetime.now()\n",
    "dnew ={}\n",
    "for item in set(clean_df_rake['File_Name']):\n",
    "    list_of_chat = list(clean_df_rake[clean_df_rake['File_Name'] == item]['cust_chat'])\n",
    "    dnew[\"{0}\".format(item)]= da.combine_list_of_items(list_of_chat,'')\n",
    "t2 = datetime.datetime.now()\n",
    "print(t2 - t1)\n",
    "p.slack_notify( str(t2 - t1) + ' ' + message)\n",
    "\n",
    "df_issues = pd.DataFrame.from_dict(dnew, orient='index', dtype=None)\n",
    "\n",
    "df_issues = df_issues.rename(index=str, columns={ 0 : \"Chat_Para_Customer\"})\n",
    "\n",
    "if p.output == 'ind':\n",
    "    issue_list_names = list(set(clean_df_rake['File_Name']))\n",
    "else:\n",
    "    issue_list_names = ['issue']\n",
    "print(len(issue_list_names))\n",
    "#issue_list_names = list(set(clean_df_rake['File_Name']) - set(['mastercard','coupon','store_card','orders']))\n",
    "\n",
    "rake_object = rake.Rake(p.path + \"SmartStoplist.txt\",p.min_word_len, p.min_word_phrase_len, p.freq)\n",
    "\n",
    "writer = pd.ExcelWriter('Data_Files/Keyword_Extracted.xlsx')\n",
    "for item in issue_list_names:\n",
    "    t1 = datetime.datetime.now()\n",
    "    print(item)\n",
    "    message = 'rake started'\n",
    "    p.slack.chat.post_message('@manoj', 'rake process started for ' + str(item) + ' at ' + str(t1))\n",
    "    chat_para = df_issues.loc[[item]]['Chat_Para_Customer'][0]\n",
    "    keywords_tuples = rake_object.run(chat_para)\n",
    "    df = pd.DataFrame(keywords_tuples)\n",
    "    df.to_excel(writer,str(item))\n",
    "    #df.to_excel( str(item) + '.xlsx')\n",
    "    t2 = datetime.datetime.now()\n",
    "    message = 'rake is done'\n",
    "    p.slack_notify( str(t2 - t1) + ' ' + message)\n",
    "writer.save()\n",
    "\n",
    "#writer = pd.ExcelWriter('Keyword_Extracted.xlsx')\n",
    "#for chat_issue in clean_df_rake['File_Name']:\n",
    "#    temp_df.to_excel(writer,'sheet name')\n"
   ]
  }
 ],
 "metadata": {
  "kernelspec": {
   "display_name": "Python [Root]",
   "language": "python",
   "name": "Python [Root]"
  },
  "language_info": {
   "codemirror_mode": {
    "name": "ipython",
    "version": 3
   },
   "file_extension": ".py",
   "mimetype": "text/x-python",
   "name": "python",
   "nbconvert_exporter": "python",
   "pygments_lexer": "ipython3",
   "version": "3.5.2"
  }
 },
 "nbformat": 4,
 "nbformat_minor": 0
}
